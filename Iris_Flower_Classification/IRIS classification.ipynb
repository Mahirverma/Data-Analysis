{
 "cells": [
  {
   "cell_type": "markdown",
   "id": "422de80b",
   "metadata": {},
   "source": [
    "<h1> Imports</h1>"
   ]
  },
  {
   "cell_type": "code",
   "execution_count": 1,
   "id": "f011d858",
   "metadata": {},
   "outputs": [],
   "source": [
    "import numpy as np\n",
    "import pandas as pd\n",
    "from keras.utils import to_categorical\n",
    "from sklearn.model_selection import train_test_split\n",
    "from sklearn.preprocessing import MinMaxScaler\n",
    "from keras.models import Sequential\n",
    "from keras.layers import Dense\n",
    "from keras.models import load_model\n",
    "from sklearn.metrics import accuracy_score\n",
    "from sklearn.utils._joblib import dump,load\n",
    "import warnings\n",
    "warnings.filterwarnings('ignore')"
   ]
  },
  {
   "cell_type": "markdown",
   "id": "e6a4abc8",
   "metadata": {},
   "source": [
    "<h1>Loading the Dataset</h1>"
   ]
  },
  {
   "cell_type": "code",
   "execution_count": 2,
   "id": "705b9053",
   "metadata": {},
   "outputs": [],
   "source": [
    "df=pd.read_csv('IRIS.csv')\n",
    "data=df[['sepal_length','sepal_width','petal_length','petal_width']]\n",
    "target=df['species']"
   ]
  },
  {
   "cell_type": "code",
   "execution_count": 3,
   "id": "03f9c669",
   "metadata": {},
   "outputs": [],
   "source": [
    "mapping={'Iris-setosa':0,'Iris-versicolor':1,'Iris-virginica':2}\n",
    "target=target.map(mapping)"
   ]
  },
  {
   "cell_type": "code",
   "execution_count": 4,
   "id": "a1b62b44",
   "metadata": {},
   "outputs": [],
   "source": [
    "x = data\n",
    "y = target"
   ]
  },
  {
   "cell_type": "code",
   "execution_count": 5,
   "id": "c7b5388a",
   "metadata": {},
   "outputs": [],
   "source": [
    "y = to_categorical(y)"
   ]
  },
  {
   "cell_type": "markdown",
   "id": "e9201230",
   "metadata": {},
   "source": [
    "<h1>Splitting the dataset into train data and test data</h1>"
   ]
  },
  {
   "cell_type": "code",
   "execution_count": 6,
   "id": "a68509a6",
   "metadata": {},
   "outputs": [],
   "source": [
    "x_train, x_test, y_train, y_test = train_test_split(x, y, test_size=0.33, random_state=42)"
   ]
  },
  {
   "cell_type": "code",
   "execution_count": 7,
   "id": "bc63d44e",
   "metadata": {},
   "outputs": [
    {
     "data": {
      "text/html": [
       "<div>\n",
       "<style scoped>\n",
       "    .dataframe tbody tr th:only-of-type {\n",
       "        vertical-align: middle;\n",
       "    }\n",
       "\n",
       "    .dataframe tbody tr th {\n",
       "        vertical-align: top;\n",
       "    }\n",
       "\n",
       "    .dataframe thead th {\n",
       "        text-align: right;\n",
       "    }\n",
       "</style>\n",
       "<table border=\"1\" class=\"dataframe\">\n",
       "  <thead>\n",
       "    <tr style=\"text-align: right;\">\n",
       "      <th></th>\n",
       "      <th>sepal_length</th>\n",
       "      <th>sepal_width</th>\n",
       "      <th>petal_length</th>\n",
       "      <th>petal_width</th>\n",
       "    </tr>\n",
       "  </thead>\n",
       "  <tbody>\n",
       "    <tr>\n",
       "      <th>96</th>\n",
       "      <td>5.7</td>\n",
       "      <td>2.9</td>\n",
       "      <td>4.2</td>\n",
       "      <td>1.3</td>\n",
       "    </tr>\n",
       "    <tr>\n",
       "      <th>105</th>\n",
       "      <td>7.6</td>\n",
       "      <td>3.0</td>\n",
       "      <td>6.6</td>\n",
       "      <td>2.1</td>\n",
       "    </tr>\n",
       "    <tr>\n",
       "      <th>66</th>\n",
       "      <td>5.6</td>\n",
       "      <td>3.0</td>\n",
       "      <td>4.5</td>\n",
       "      <td>1.5</td>\n",
       "    </tr>\n",
       "    <tr>\n",
       "      <th>0</th>\n",
       "      <td>5.1</td>\n",
       "      <td>3.5</td>\n",
       "      <td>1.4</td>\n",
       "      <td>0.2</td>\n",
       "    </tr>\n",
       "    <tr>\n",
       "      <th>122</th>\n",
       "      <td>7.7</td>\n",
       "      <td>2.8</td>\n",
       "      <td>6.7</td>\n",
       "      <td>2.0</td>\n",
       "    </tr>\n",
       "    <tr>\n",
       "      <th>...</th>\n",
       "      <td>...</td>\n",
       "      <td>...</td>\n",
       "      <td>...</td>\n",
       "      <td>...</td>\n",
       "    </tr>\n",
       "    <tr>\n",
       "      <th>71</th>\n",
       "      <td>6.1</td>\n",
       "      <td>2.8</td>\n",
       "      <td>4.0</td>\n",
       "      <td>1.3</td>\n",
       "    </tr>\n",
       "    <tr>\n",
       "      <th>106</th>\n",
       "      <td>4.9</td>\n",
       "      <td>2.5</td>\n",
       "      <td>4.5</td>\n",
       "      <td>1.7</td>\n",
       "    </tr>\n",
       "    <tr>\n",
       "      <th>14</th>\n",
       "      <td>5.8</td>\n",
       "      <td>4.0</td>\n",
       "      <td>1.2</td>\n",
       "      <td>0.2</td>\n",
       "    </tr>\n",
       "    <tr>\n",
       "      <th>92</th>\n",
       "      <td>5.8</td>\n",
       "      <td>2.6</td>\n",
       "      <td>4.0</td>\n",
       "      <td>1.2</td>\n",
       "    </tr>\n",
       "    <tr>\n",
       "      <th>102</th>\n",
       "      <td>7.1</td>\n",
       "      <td>3.0</td>\n",
       "      <td>5.9</td>\n",
       "      <td>2.1</td>\n",
       "    </tr>\n",
       "  </tbody>\n",
       "</table>\n",
       "<p>100 rows × 4 columns</p>\n",
       "</div>"
      ],
      "text/plain": [
       "     sepal_length  sepal_width  petal_length  petal_width\n",
       "96            5.7          2.9           4.2          1.3\n",
       "105           7.6          3.0           6.6          2.1\n",
       "66            5.6          3.0           4.5          1.5\n",
       "0             5.1          3.5           1.4          0.2\n",
       "122           7.7          2.8           6.7          2.0\n",
       "..            ...          ...           ...          ...\n",
       "71            6.1          2.8           4.0          1.3\n",
       "106           4.9          2.5           4.5          1.7\n",
       "14            5.8          4.0           1.2          0.2\n",
       "92            5.8          2.6           4.0          1.2\n",
       "102           7.1          3.0           5.9          2.1\n",
       "\n",
       "[100 rows x 4 columns]"
      ]
     },
     "execution_count": 7,
     "metadata": {},
     "output_type": "execute_result"
    }
   ],
   "source": [
    "x_train"
   ]
  },
  {
   "cell_type": "markdown",
   "id": "9e46bb13",
   "metadata": {},
   "source": [
    "<h1>Normalizing the data</h1>"
   ]
  },
  {
   "cell_type": "code",
   "execution_count": 8,
   "id": "c184efaf",
   "metadata": {},
   "outputs": [
    {
     "data": {
      "text/html": [
       "<style>#sk-container-id-1 {color: black;}#sk-container-id-1 pre{padding: 0;}#sk-container-id-1 div.sk-toggleable {background-color: white;}#sk-container-id-1 label.sk-toggleable__label {cursor: pointer;display: block;width: 100%;margin-bottom: 0;padding: 0.3em;box-sizing: border-box;text-align: center;}#sk-container-id-1 label.sk-toggleable__label-arrow:before {content: \"▸\";float: left;margin-right: 0.25em;color: #696969;}#sk-container-id-1 label.sk-toggleable__label-arrow:hover:before {color: black;}#sk-container-id-1 div.sk-estimator:hover label.sk-toggleable__label-arrow:before {color: black;}#sk-container-id-1 div.sk-toggleable__content {max-height: 0;max-width: 0;overflow: hidden;text-align: left;background-color: #f0f8ff;}#sk-container-id-1 div.sk-toggleable__content pre {margin: 0.2em;color: black;border-radius: 0.25em;background-color: #f0f8ff;}#sk-container-id-1 input.sk-toggleable__control:checked~div.sk-toggleable__content {max-height: 200px;max-width: 100%;overflow: auto;}#sk-container-id-1 input.sk-toggleable__control:checked~label.sk-toggleable__label-arrow:before {content: \"▾\";}#sk-container-id-1 div.sk-estimator input.sk-toggleable__control:checked~label.sk-toggleable__label {background-color: #d4ebff;}#sk-container-id-1 div.sk-label input.sk-toggleable__control:checked~label.sk-toggleable__label {background-color: #d4ebff;}#sk-container-id-1 input.sk-hidden--visually {border: 0;clip: rect(1px 1px 1px 1px);clip: rect(1px, 1px, 1px, 1px);height: 1px;margin: -1px;overflow: hidden;padding: 0;position: absolute;width: 1px;}#sk-container-id-1 div.sk-estimator {font-family: monospace;background-color: #f0f8ff;border: 1px dotted black;border-radius: 0.25em;box-sizing: border-box;margin-bottom: 0.5em;}#sk-container-id-1 div.sk-estimator:hover {background-color: #d4ebff;}#sk-container-id-1 div.sk-parallel-item::after {content: \"\";width: 100%;border-bottom: 1px solid gray;flex-grow: 1;}#sk-container-id-1 div.sk-label:hover label.sk-toggleable__label {background-color: #d4ebff;}#sk-container-id-1 div.sk-serial::before {content: \"\";position: absolute;border-left: 1px solid gray;box-sizing: border-box;top: 0;bottom: 0;left: 50%;z-index: 0;}#sk-container-id-1 div.sk-serial {display: flex;flex-direction: column;align-items: center;background-color: white;padding-right: 0.2em;padding-left: 0.2em;position: relative;}#sk-container-id-1 div.sk-item {position: relative;z-index: 1;}#sk-container-id-1 div.sk-parallel {display: flex;align-items: stretch;justify-content: center;background-color: white;position: relative;}#sk-container-id-1 div.sk-item::before, #sk-container-id-1 div.sk-parallel-item::before {content: \"\";position: absolute;border-left: 1px solid gray;box-sizing: border-box;top: 0;bottom: 0;left: 50%;z-index: -1;}#sk-container-id-1 div.sk-parallel-item {display: flex;flex-direction: column;z-index: 1;position: relative;background-color: white;}#sk-container-id-1 div.sk-parallel-item:first-child::after {align-self: flex-end;width: 50%;}#sk-container-id-1 div.sk-parallel-item:last-child::after {align-self: flex-start;width: 50%;}#sk-container-id-1 div.sk-parallel-item:only-child::after {width: 0;}#sk-container-id-1 div.sk-dashed-wrapped {border: 1px dashed gray;margin: 0 0.4em 0.5em 0.4em;box-sizing: border-box;padding-bottom: 0.4em;background-color: white;}#sk-container-id-1 div.sk-label label {font-family: monospace;font-weight: bold;display: inline-block;line-height: 1.2em;}#sk-container-id-1 div.sk-label-container {text-align: center;}#sk-container-id-1 div.sk-container {/* jupyter's `normalize.less` sets `[hidden] { display: none; }` but bootstrap.min.css set `[hidden] { display: none !important; }` so we also need the `!important` here to be able to override the default hidden behavior on the sphinx rendered scikit-learn.org. See: https://github.com/scikit-learn/scikit-learn/issues/21755 */display: inline-block !important;position: relative;}#sk-container-id-1 div.sk-text-repr-fallback {display: none;}</style><div id=\"sk-container-id-1\" class=\"sk-top-container\"><div class=\"sk-text-repr-fallback\"><pre>MinMaxScaler()</pre><b>In a Jupyter environment, please rerun this cell to show the HTML representation or trust the notebook. <br />On GitHub, the HTML representation is unable to render, please try loading this page with nbviewer.org.</b></div><div class=\"sk-container\" hidden><div class=\"sk-item\"><div class=\"sk-estimator sk-toggleable\"><input class=\"sk-toggleable__control sk-hidden--visually\" id=\"sk-estimator-id-1\" type=\"checkbox\" checked><label for=\"sk-estimator-id-1\" class=\"sk-toggleable__label sk-toggleable__label-arrow\">MinMaxScaler</label><div class=\"sk-toggleable__content\"><pre>MinMaxScaler()</pre></div></div></div></div></div>"
      ],
      "text/plain": [
       "MinMaxScaler()"
      ]
     },
     "execution_count": 8,
     "metadata": {},
     "output_type": "execute_result"
    }
   ],
   "source": [
    "scaler_object = MinMaxScaler()\n",
    "scaler_object.fit(x_train)"
   ]
  },
  {
   "cell_type": "code",
   "execution_count": 9,
   "id": "adb157b9",
   "metadata": {},
   "outputs": [
    {
     "data": {
      "text/plain": [
       "['MinMaxScaler.bin']"
      ]
     },
     "execution_count": 9,
     "metadata": {},
     "output_type": "execute_result"
    }
   ],
   "source": [
    "#save the trained scaler object\n",
    "dump(scaler_object,'MinMaxScaler.bin')"
   ]
  },
  {
   "cell_type": "code",
   "execution_count": 10,
   "id": "0314d2bf",
   "metadata": {},
   "outputs": [],
   "source": [
    "scaled_X_train = scaler_object.transform(x_train)\n",
    "scaled_X_test = scaler_object.transform(x_test)"
   ]
  },
  {
   "cell_type": "markdown",
   "id": "6b1abb44",
   "metadata": {},
   "source": [
    "<h1>Adding the layers in the model</h1>"
   ]
  },
  {
   "cell_type": "code",
   "execution_count": 11,
   "id": "c3d96d50",
   "metadata": {},
   "outputs": [],
   "source": [
    "model = Sequential()\n",
    "model.add(Dense(8, input_dim=4, activation='relu'))\n",
    "model.add(Dense(8, input_dim=4, activation='relu'))\n",
    "model.add(Dense(3, activation='softmax'))\n",
    "model.compile(loss='categorical_crossentropy', optimizer='adam', metrics=['accuracy'])"
   ]
  },
  {
   "cell_type": "code",
   "execution_count": 12,
   "id": "b88e7509",
   "metadata": {},
   "outputs": [
    {
     "name": "stdout",
     "output_type": "stream",
     "text": [
      "Model: \"sequential\"\n",
      "_________________________________________________________________\n",
      " Layer (type)                Output Shape              Param #   \n",
      "=================================================================\n",
      " dense (Dense)               (None, 8)                 40        \n",
      "                                                                 \n",
      " dense_1 (Dense)             (None, 8)                 72        \n",
      "                                                                 \n",
      " dense_2 (Dense)             (None, 3)                 27        \n",
      "                                                                 \n",
      "=================================================================\n",
      "Total params: 139 (556.00 Byte)\n",
      "Trainable params: 139 (556.00 Byte)\n",
      "Non-trainable params: 0 (0.00 Byte)\n",
      "_________________________________________________________________\n"
     ]
    }
   ],
   "source": [
    "model.summary()"
   ]
  },
  {
   "cell_type": "markdown",
   "id": "325066cd",
   "metadata": {},
   "source": [
    "<h1>Training the data into the model</h1>"
   ]
  },
  {
   "cell_type": "code",
   "execution_count": 13,
   "id": "83b4b92a",
   "metadata": {},
   "outputs": [
    {
     "name": "stdout",
     "output_type": "stream",
     "text": [
      "Epoch 1/150\n",
      "4/4 - 3s - loss: 1.0705 - accuracy: 0.6400 - 3s/epoch - 746ms/step\n",
      "Epoch 2/150\n",
      "4/4 - 0s - loss: 1.0649 - accuracy: 0.6400 - 25ms/epoch - 6ms/step\n",
      "Epoch 3/150\n",
      "4/4 - 0s - loss: 1.0601 - accuracy: 0.6300 - 24ms/epoch - 6ms/step\n",
      "Epoch 4/150\n",
      "4/4 - 0s - loss: 1.0556 - accuracy: 0.6300 - 28ms/epoch - 7ms/step\n",
      "Epoch 5/150\n",
      "4/4 - 0s - loss: 1.0515 - accuracy: 0.6300 - 33ms/epoch - 8ms/step\n",
      "Epoch 6/150\n",
      "4/4 - 0s - loss: 1.0475 - accuracy: 0.6400 - 17ms/epoch - 4ms/step\n",
      "Epoch 7/150\n",
      "4/4 - 0s - loss: 1.0434 - accuracy: 0.6400 - 28ms/epoch - 7ms/step\n",
      "Epoch 8/150\n",
      "4/4 - 0s - loss: 1.0394 - accuracy: 0.6600 - 16ms/epoch - 4ms/step\n",
      "Epoch 9/150\n",
      "4/4 - 0s - loss: 1.0353 - accuracy: 0.6600 - 33ms/epoch - 8ms/step\n",
      "Epoch 10/150\n",
      "4/4 - 0s - loss: 1.0309 - accuracy: 0.6600 - 33ms/epoch - 8ms/step\n",
      "Epoch 11/150\n",
      "4/4 - 0s - loss: 1.0261 - accuracy: 0.6600 - 17ms/epoch - 4ms/step\n",
      "Epoch 12/150\n",
      "4/4 - 0s - loss: 1.0211 - accuracy: 0.6500 - 34ms/epoch - 8ms/step\n",
      "Epoch 13/150\n",
      "4/4 - 0s - loss: 1.0161 - accuracy: 0.6500 - 16ms/epoch - 4ms/step\n",
      "Epoch 14/150\n",
      "4/4 - 0s - loss: 1.0109 - accuracy: 0.6500 - 17ms/epoch - 4ms/step\n",
      "Epoch 15/150\n",
      "4/4 - 0s - loss: 1.0054 - accuracy: 0.6500 - 22ms/epoch - 5ms/step\n",
      "Epoch 16/150\n",
      "4/4 - 0s - loss: 0.9996 - accuracy: 0.6500 - 21ms/epoch - 5ms/step\n",
      "Epoch 17/150\n",
      "4/4 - 0s - loss: 0.9934 - accuracy: 0.6500 - 15ms/epoch - 4ms/step\n",
      "Epoch 18/150\n",
      "4/4 - 0s - loss: 0.9863 - accuracy: 0.6500 - 27ms/epoch - 7ms/step\n",
      "Epoch 19/150\n",
      "4/4 - 0s - loss: 0.9789 - accuracy: 0.6500 - 20ms/epoch - 5ms/step\n",
      "Epoch 20/150\n",
      "4/4 - 0s - loss: 0.9708 - accuracy: 0.6500 - 17ms/epoch - 4ms/step\n",
      "Epoch 21/150\n",
      "4/4 - 0s - loss: 0.9626 - accuracy: 0.6500 - 22ms/epoch - 5ms/step\n",
      "Epoch 22/150\n",
      "4/4 - 0s - loss: 0.9538 - accuracy: 0.6500 - 26ms/epoch - 7ms/step\n",
      "Epoch 23/150\n",
      "4/4 - 0s - loss: 0.9447 - accuracy: 0.6500 - 18ms/epoch - 4ms/step\n",
      "Epoch 24/150\n",
      "4/4 - 0s - loss: 0.9353 - accuracy: 0.6500 - 28ms/epoch - 7ms/step\n",
      "Epoch 25/150\n",
      "4/4 - 0s - loss: 0.9263 - accuracy: 0.6500 - 8ms/epoch - 2ms/step\n",
      "Epoch 26/150\n",
      "4/4 - 0s - loss: 0.9172 - accuracy: 0.6500 - 17ms/epoch - 4ms/step\n",
      "Epoch 27/150\n",
      "4/4 - 0s - loss: 0.9086 - accuracy: 0.6500 - 19ms/epoch - 5ms/step\n",
      "Epoch 28/150\n",
      "4/4 - 0s - loss: 0.8996 - accuracy: 0.6500 - 34ms/epoch - 8ms/step\n",
      "Epoch 29/150\n",
      "4/4 - 0s - loss: 0.8907 - accuracy: 0.6500 - 39ms/epoch - 10ms/step\n",
      "Epoch 30/150\n",
      "4/4 - 0s - loss: 0.8821 - accuracy: 0.6500 - 23ms/epoch - 6ms/step\n",
      "Epoch 31/150\n",
      "4/4 - 0s - loss: 0.8741 - accuracy: 0.6500 - 37ms/epoch - 9ms/step\n",
      "Epoch 32/150\n",
      "4/4 - 0s - loss: 0.8660 - accuracy: 0.6500 - 13ms/epoch - 3ms/step\n",
      "Epoch 33/150\n",
      "4/4 - 0s - loss: 0.8580 - accuracy: 0.6500 - 17ms/epoch - 4ms/step\n",
      "Epoch 34/150\n",
      "4/4 - 0s - loss: 0.8501 - accuracy: 0.6500 - 16ms/epoch - 4ms/step\n",
      "Epoch 35/150\n",
      "4/4 - 0s - loss: 0.8423 - accuracy: 0.6500 - 16ms/epoch - 4ms/step\n",
      "Epoch 36/150\n",
      "4/4 - 0s - loss: 0.8344 - accuracy: 0.6500 - 26ms/epoch - 6ms/step\n",
      "Epoch 37/150\n",
      "4/4 - 0s - loss: 0.8273 - accuracy: 0.6500 - 26ms/epoch - 7ms/step\n",
      "Epoch 38/150\n",
      "4/4 - 0s - loss: 0.8195 - accuracy: 0.6500 - 30ms/epoch - 7ms/step\n",
      "Epoch 39/150\n",
      "4/4 - 0s - loss: 0.8119 - accuracy: 0.6500 - 25ms/epoch - 6ms/step\n",
      "Epoch 40/150\n",
      "4/4 - 0s - loss: 0.8042 - accuracy: 0.6500 - 27ms/epoch - 7ms/step\n",
      "Epoch 41/150\n",
      "4/4 - 0s - loss: 0.7971 - accuracy: 0.6500 - 33ms/epoch - 8ms/step\n",
      "Epoch 42/150\n",
      "4/4 - 0s - loss: 0.7889 - accuracy: 0.6500 - 34ms/epoch - 9ms/step\n",
      "Epoch 43/150\n",
      "4/4 - 0s - loss: 0.7811 - accuracy: 0.6500 - 33ms/epoch - 8ms/step\n",
      "Epoch 44/150\n",
      "4/4 - 0s - loss: 0.7731 - accuracy: 0.6500 - 29ms/epoch - 7ms/step\n",
      "Epoch 45/150\n",
      "4/4 - 0s - loss: 0.7656 - accuracy: 0.6500 - 33ms/epoch - 8ms/step\n",
      "Epoch 46/150\n",
      "4/4 - 0s - loss: 0.7577 - accuracy: 0.6500 - 10ms/epoch - 3ms/step\n",
      "Epoch 47/150\n",
      "4/4 - 0s - loss: 0.7501 - accuracy: 0.6500 - 32ms/epoch - 8ms/step\n",
      "Epoch 48/150\n",
      "4/4 - 0s - loss: 0.7429 - accuracy: 0.6500 - 32ms/epoch - 8ms/step\n",
      "Epoch 49/150\n",
      "4/4 - 0s - loss: 0.7353 - accuracy: 0.6500 - 16ms/epoch - 4ms/step\n",
      "Epoch 50/150\n",
      "4/4 - 0s - loss: 0.7277 - accuracy: 0.6500 - 31ms/epoch - 8ms/step\n",
      "Epoch 51/150\n",
      "4/4 - 0s - loss: 0.7200 - accuracy: 0.6600 - 33ms/epoch - 8ms/step\n",
      "Epoch 52/150\n",
      "4/4 - 0s - loss: 0.7126 - accuracy: 0.6600 - 33ms/epoch - 8ms/step\n",
      "Epoch 53/150\n",
      "4/4 - 0s - loss: 0.7054 - accuracy: 0.6600 - 38ms/epoch - 10ms/step\n",
      "Epoch 54/150\n",
      "4/4 - 0s - loss: 0.6979 - accuracy: 0.6500 - 34ms/epoch - 8ms/step\n",
      "Epoch 55/150\n",
      "4/4 - 0s - loss: 0.6909 - accuracy: 0.6400 - 22ms/epoch - 6ms/step\n",
      "Epoch 56/150\n",
      "4/4 - 0s - loss: 0.6842 - accuracy: 0.6400 - 34ms/epoch - 9ms/step\n",
      "Epoch 57/150\n",
      "4/4 - 0s - loss: 0.6776 - accuracy: 0.6400 - 32ms/epoch - 8ms/step\n",
      "Epoch 58/150\n",
      "4/4 - 0s - loss: 0.6705 - accuracy: 0.6300 - 33ms/epoch - 8ms/step\n",
      "Epoch 59/150\n",
      "4/4 - 0s - loss: 0.6641 - accuracy: 0.6100 - 31ms/epoch - 8ms/step\n",
      "Epoch 60/150\n",
      "4/4 - 0s - loss: 0.6575 - accuracy: 0.6200 - 33ms/epoch - 8ms/step\n",
      "Epoch 61/150\n",
      "4/4 - 0s - loss: 0.6516 - accuracy: 0.6000 - 17ms/epoch - 4ms/step\n",
      "Epoch 62/150\n",
      "4/4 - 0s - loss: 0.6457 - accuracy: 0.5700 - 17ms/epoch - 4ms/step\n",
      "Epoch 63/150\n",
      "4/4 - 0s - loss: 0.6397 - accuracy: 0.6000 - 20ms/epoch - 5ms/step\n",
      "Epoch 64/150\n",
      "4/4 - 0s - loss: 0.6340 - accuracy: 0.6100 - 32ms/epoch - 8ms/step\n",
      "Epoch 65/150\n",
      "4/4 - 0s - loss: 0.6285 - accuracy: 0.6200 - 16ms/epoch - 4ms/step\n",
      "Epoch 66/150\n",
      "4/4 - 0s - loss: 0.6226 - accuracy: 0.6100 - 16ms/epoch - 4ms/step\n",
      "Epoch 67/150\n",
      "4/4 - 0s - loss: 0.6174 - accuracy: 0.6200 - 32ms/epoch - 8ms/step\n",
      "Epoch 68/150\n",
      "4/4 - 0s - loss: 0.6122 - accuracy: 0.6600 - 25ms/epoch - 6ms/step\n",
      "Epoch 69/150\n",
      "4/4 - 0s - loss: 0.6073 - accuracy: 0.6700 - 20ms/epoch - 5ms/step\n",
      "Epoch 70/150\n",
      "4/4 - 0s - loss: 0.6025 - accuracy: 0.6500 - 23ms/epoch - 6ms/step\n",
      "Epoch 71/150\n",
      "4/4 - 0s - loss: 0.5980 - accuracy: 0.6500 - 12ms/epoch - 3ms/step\n",
      "Epoch 72/150\n",
      "4/4 - 0s - loss: 0.5938 - accuracy: 0.6500 - 18ms/epoch - 4ms/step\n",
      "Epoch 73/150\n",
      "4/4 - 0s - loss: 0.5894 - accuracy: 0.6500 - 23ms/epoch - 6ms/step\n",
      "Epoch 74/150\n",
      "4/4 - 0s - loss: 0.5852 - accuracy: 0.6500 - 12ms/epoch - 3ms/step\n",
      "Epoch 75/150\n",
      "4/4 - 0s - loss: 0.5811 - accuracy: 0.6500 - 41ms/epoch - 10ms/step\n",
      "Epoch 76/150\n",
      "4/4 - 0s - loss: 0.5770 - accuracy: 0.6500 - 19ms/epoch - 5ms/step\n",
      "Epoch 77/150\n",
      "4/4 - 0s - loss: 0.5728 - accuracy: 0.6500 - 27ms/epoch - 7ms/step\n",
      "Epoch 78/150\n",
      "4/4 - 0s - loss: 0.5690 - accuracy: 0.6500 - 21ms/epoch - 5ms/step\n",
      "Epoch 79/150\n",
      "4/4 - 0s - loss: 0.5651 - accuracy: 0.6500 - 17ms/epoch - 4ms/step\n",
      "Epoch 80/150\n",
      "4/4 - 0s - loss: 0.5618 - accuracy: 0.6500 - 16ms/epoch - 4ms/step\n",
      "Epoch 81/150\n",
      "4/4 - 0s - loss: 0.5579 - accuracy: 0.6500 - 18ms/epoch - 4ms/step\n",
      "Epoch 82/150\n",
      "4/4 - 0s - loss: 0.5546 - accuracy: 0.6500 - 17ms/epoch - 4ms/step\n",
      "Epoch 83/150\n",
      "4/4 - 0s - loss: 0.5513 - accuracy: 0.6500 - 16ms/epoch - 4ms/step\n",
      "Epoch 84/150\n",
      "4/4 - 0s - loss: 0.5484 - accuracy: 0.6500 - 17ms/epoch - 4ms/step\n",
      "Epoch 85/150\n",
      "4/4 - 0s - loss: 0.5453 - accuracy: 0.6600 - 17ms/epoch - 4ms/step\n",
      "Epoch 86/150\n",
      "4/4 - 0s - loss: 0.5426 - accuracy: 0.6700 - 35ms/epoch - 9ms/step\n",
      "Epoch 87/150\n",
      "4/4 - 0s - loss: 0.5399 - accuracy: 0.6700 - 21ms/epoch - 5ms/step\n",
      "Epoch 88/150\n",
      "4/4 - 0s - loss: 0.5370 - accuracy: 0.6700 - 16ms/epoch - 4ms/step\n",
      "Epoch 89/150\n",
      "4/4 - 0s - loss: 0.5341 - accuracy: 0.6700 - 18ms/epoch - 5ms/step\n",
      "Epoch 90/150\n",
      "4/4 - 0s - loss: 0.5314 - accuracy: 0.6600 - 16ms/epoch - 4ms/step\n",
      "Epoch 91/150\n",
      "4/4 - 0s - loss: 0.5289 - accuracy: 0.6500 - 17ms/epoch - 4ms/step\n",
      "Epoch 92/150\n",
      "4/4 - 0s - loss: 0.5265 - accuracy: 0.6500 - 18ms/epoch - 4ms/step\n",
      "Epoch 93/150\n",
      "4/4 - 0s - loss: 0.5242 - accuracy: 0.6500 - 12ms/epoch - 3ms/step\n",
      "Epoch 94/150\n",
      "4/4 - 0s - loss: 0.5218 - accuracy: 0.6500 - 17ms/epoch - 4ms/step\n",
      "Epoch 95/150\n",
      "4/4 - 0s - loss: 0.5195 - accuracy: 0.6500 - 21ms/epoch - 5ms/step\n",
      "Epoch 96/150\n",
      "4/4 - 0s - loss: 0.5170 - accuracy: 0.6500 - 21ms/epoch - 5ms/step\n",
      "Epoch 97/150\n",
      "4/4 - 0s - loss: 0.5146 - accuracy: 0.6500 - 19ms/epoch - 5ms/step\n",
      "Epoch 98/150\n",
      "4/4 - 0s - loss: 0.5124 - accuracy: 0.6500 - 24ms/epoch - 6ms/step\n",
      "Epoch 99/150\n",
      "4/4 - 0s - loss: 0.5102 - accuracy: 0.6500 - 18ms/epoch - 4ms/step\n",
      "Epoch 100/150\n",
      "4/4 - 0s - loss: 0.5081 - accuracy: 0.6500 - 16ms/epoch - 4ms/step\n",
      "Epoch 101/150\n",
      "4/4 - 0s - loss: 0.5061 - accuracy: 0.6500 - 16ms/epoch - 4ms/step\n",
      "Epoch 102/150\n",
      "4/4 - 0s - loss: 0.5042 - accuracy: 0.6500 - 34ms/epoch - 8ms/step\n",
      "Epoch 103/150\n",
      "4/4 - 0s - loss: 0.5021 - accuracy: 0.6500 - 34ms/epoch - 8ms/step\n"
     ]
    },
    {
     "name": "stdout",
     "output_type": "stream",
     "text": [
      "Epoch 104/150\n",
      "4/4 - 0s - loss: 0.4998 - accuracy: 0.6600 - 33ms/epoch - 8ms/step\n",
      "Epoch 105/150\n",
      "4/4 - 0s - loss: 0.4982 - accuracy: 0.6600 - 34ms/epoch - 8ms/step\n",
      "Epoch 106/150\n",
      "4/4 - 0s - loss: 0.4962 - accuracy: 0.6700 - 33ms/epoch - 8ms/step\n",
      "Epoch 107/150\n",
      "4/4 - 0s - loss: 0.4942 - accuracy: 0.6700 - 33ms/epoch - 8ms/step\n",
      "Epoch 108/150\n",
      "4/4 - 0s - loss: 0.4924 - accuracy: 0.6700 - 18ms/epoch - 4ms/step\n",
      "Epoch 109/150\n",
      "4/4 - 0s - loss: 0.4910 - accuracy: 0.6700 - 24ms/epoch - 6ms/step\n",
      "Epoch 110/150\n",
      "4/4 - 0s - loss: 0.4889 - accuracy: 0.6900 - 28ms/epoch - 7ms/step\n",
      "Epoch 111/150\n",
      "4/4 - 0s - loss: 0.4871 - accuracy: 0.7100 - 19ms/epoch - 5ms/step\n",
      "Epoch 112/150\n",
      "4/4 - 0s - loss: 0.4848 - accuracy: 0.7300 - 27ms/epoch - 7ms/step\n",
      "Epoch 113/150\n",
      "4/4 - 0s - loss: 0.4824 - accuracy: 0.7300 - 16ms/epoch - 4ms/step\n",
      "Epoch 114/150\n",
      "4/4 - 0s - loss: 0.4803 - accuracy: 0.6900 - 26ms/epoch - 6ms/step\n",
      "Epoch 115/150\n",
      "4/4 - 0s - loss: 0.4780 - accuracy: 0.6900 - 19ms/epoch - 5ms/step\n",
      "Epoch 116/150\n",
      "4/4 - 0s - loss: 0.4757 - accuracy: 0.6900 - 11ms/epoch - 3ms/step\n",
      "Epoch 117/150\n",
      "4/4 - 0s - loss: 0.4737 - accuracy: 0.7100 - 18ms/epoch - 5ms/step\n",
      "Epoch 118/150\n",
      "4/4 - 0s - loss: 0.4716 - accuracy: 0.7200 - 27ms/epoch - 7ms/step\n",
      "Epoch 119/150\n",
      "4/4 - 0s - loss: 0.4696 - accuracy: 0.7000 - 18ms/epoch - 4ms/step\n",
      "Epoch 120/150\n",
      "4/4 - 0s - loss: 0.4677 - accuracy: 0.7000 - 17ms/epoch - 4ms/step\n",
      "Epoch 121/150\n",
      "4/4 - 0s - loss: 0.4656 - accuracy: 0.7500 - 15ms/epoch - 4ms/step\n",
      "Epoch 122/150\n",
      "4/4 - 0s - loss: 0.4632 - accuracy: 0.8000 - 19ms/epoch - 5ms/step\n",
      "Epoch 123/150\n",
      "4/4 - 0s - loss: 0.4609 - accuracy: 0.8100 - 20ms/epoch - 5ms/step\n",
      "Epoch 124/150\n",
      "4/4 - 0s - loss: 0.4582 - accuracy: 0.8200 - 24ms/epoch - 6ms/step\n",
      "Epoch 125/150\n",
      "4/4 - 0s - loss: 0.4560 - accuracy: 0.8100 - 18ms/epoch - 4ms/step\n",
      "Epoch 126/150\n",
      "4/4 - 0s - loss: 0.4536 - accuracy: 0.8100 - 19ms/epoch - 5ms/step\n",
      "Epoch 127/150\n",
      "4/4 - 0s - loss: 0.4514 - accuracy: 0.8100 - 25ms/epoch - 6ms/step\n",
      "Epoch 128/150\n",
      "4/4 - 0s - loss: 0.4490 - accuracy: 0.8100 - 16ms/epoch - 4ms/step\n",
      "Epoch 129/150\n",
      "4/4 - 0s - loss: 0.4472 - accuracy: 0.8300 - 19ms/epoch - 5ms/step\n",
      "Epoch 130/150\n",
      "4/4 - 0s - loss: 0.4448 - accuracy: 0.8800 - 13ms/epoch - 3ms/step\n",
      "Epoch 131/150\n",
      "4/4 - 0s - loss: 0.4427 - accuracy: 0.8800 - 17ms/epoch - 4ms/step\n",
      "Epoch 132/150\n",
      "4/4 - 0s - loss: 0.4409 - accuracy: 0.8700 - 20ms/epoch - 5ms/step\n",
      "Epoch 133/150\n",
      "4/4 - 0s - loss: 0.4381 - accuracy: 0.8500 - 15ms/epoch - 4ms/step\n",
      "Epoch 134/150\n",
      "4/4 - 0s - loss: 0.4359 - accuracy: 0.8500 - 18ms/epoch - 4ms/step\n",
      "Epoch 135/150\n",
      "4/4 - 0s - loss: 0.4339 - accuracy: 0.8100 - 18ms/epoch - 4ms/step\n",
      "Epoch 136/150\n",
      "4/4 - 0s - loss: 0.4320 - accuracy: 0.8000 - 19ms/epoch - 5ms/step\n",
      "Epoch 137/150\n",
      "4/4 - 0s - loss: 0.4299 - accuracy: 0.8000 - 15ms/epoch - 4ms/step\n",
      "Epoch 138/150\n",
      "4/4 - 0s - loss: 0.4276 - accuracy: 0.8000 - 25ms/epoch - 6ms/step\n",
      "Epoch 139/150\n",
      "4/4 - 0s - loss: 0.4252 - accuracy: 0.8400 - 18ms/epoch - 4ms/step\n",
      "Epoch 140/150\n",
      "4/4 - 0s - loss: 0.4226 - accuracy: 0.8800 - 17ms/epoch - 4ms/step\n",
      "Epoch 141/150\n",
      "4/4 - 0s - loss: 0.4201 - accuracy: 0.8900 - 25ms/epoch - 6ms/step\n",
      "Epoch 142/150\n",
      "4/4 - 0s - loss: 0.4180 - accuracy: 0.9000 - 18ms/epoch - 4ms/step\n",
      "Epoch 143/150\n",
      "4/4 - 0s - loss: 0.4155 - accuracy: 0.9100 - 16ms/epoch - 4ms/step\n",
      "Epoch 144/150\n",
      "4/4 - 0s - loss: 0.4131 - accuracy: 0.9200 - 26ms/epoch - 6ms/step\n",
      "Epoch 145/150\n",
      "4/4 - 0s - loss: 0.4114 - accuracy: 0.9300 - 16ms/epoch - 4ms/step\n",
      "Epoch 146/150\n",
      "4/4 - 0s - loss: 0.4089 - accuracy: 0.9200 - 17ms/epoch - 4ms/step\n",
      "Epoch 147/150\n",
      "4/4 - 0s - loss: 0.4065 - accuracy: 0.9200 - 17ms/epoch - 4ms/step\n",
      "Epoch 148/150\n",
      "4/4 - 0s - loss: 0.4042 - accuracy: 0.9300 - 25ms/epoch - 6ms/step\n",
      "Epoch 149/150\n",
      "4/4 - 0s - loss: 0.4012 - accuracy: 0.9300 - 21ms/epoch - 5ms/step\n",
      "Epoch 150/150\n",
      "4/4 - 0s - loss: 0.3993 - accuracy: 0.9100 - 19ms/epoch - 5ms/step\n"
     ]
    },
    {
     "data": {
      "text/plain": [
       "<keras.src.callbacks.History at 0x1c29467b450>"
      ]
     },
     "execution_count": 13,
     "metadata": {},
     "output_type": "execute_result"
    }
   ],
   "source": [
    "model.fit(scaled_X_train,y_train,epochs=150, verbose=2)"
   ]
  },
  {
   "cell_type": "markdown",
   "id": "39a5d606",
   "metadata": {},
   "source": [
    "<h1>Predicting the classes</h1>"
   ]
  },
  {
   "cell_type": "code",
   "execution_count": 14,
   "id": "042b440d",
   "metadata": {},
   "outputs": [
    {
     "name": "stdout",
     "output_type": "stream",
     "text": [
      "2/2 [==============================] - 0s 0s/step\n"
     ]
    }
   ],
   "source": [
    "#model.predict_classes(scaled_X_test)\n",
    "predictions=np.argmax(model.predict(scaled_X_test),axis=1)"
   ]
  },
  {
   "cell_type": "code",
   "execution_count": 15,
   "id": "1dda9466",
   "metadata": {},
   "outputs": [
    {
     "data": {
      "text/plain": [
       "array([1, 0, 2, 1, 1, 0, 1, 2, 1, 1, 2, 0, 0, 0, 0, 1, 2, 1, 1, 2, 0, 2,\n",
       "       0, 2, 2, 2, 2, 2, 0, 0, 0, 0, 1, 0, 0, 2, 1, 0, 0, 0, 2, 1, 1, 0,\n",
       "       0, 1, 2, 2, 1, 2], dtype=int64)"
      ]
     },
     "execution_count": 15,
     "metadata": {},
     "output_type": "execute_result"
    }
   ],
   "source": [
    "y_test.argmax(axis=1)"
   ]
  },
  {
   "cell_type": "markdown",
   "id": "f3d77c6d",
   "metadata": {},
   "source": [
    "<h1>Checking the accuracy of the model</h1>"
   ]
  },
  {
   "cell_type": "code",
   "execution_count": 16,
   "id": "50d83d78",
   "metadata": {},
   "outputs": [
    {
     "name": "stdout",
     "output_type": "stream",
     "text": [
      "0.94\n"
     ]
    }
   ],
   "source": [
    "print(accuracy_score(y_test.argmax(axis=1),predictions))"
   ]
  },
  {
   "cell_type": "code",
   "execution_count": 17,
   "id": "f842e664",
   "metadata": {},
   "outputs": [],
   "source": [
    "model.save('myfirstmodel.keras')"
   ]
  },
  {
   "cell_type": "markdown",
   "id": "568a6943",
   "metadata": {},
   "source": [
    "<h1>Loading the saved model and predicting on test data</h1>"
   ]
  },
  {
   "cell_type": "code",
   "execution_count": 18,
   "id": "cdf27bff",
   "metadata": {},
   "outputs": [],
   "source": [
    "newmodel = load_model('myfirstmodel.keras')"
   ]
  },
  {
   "cell_type": "code",
   "execution_count": 19,
   "id": "8934217d",
   "metadata": {},
   "outputs": [
    {
     "name": "stdout",
     "output_type": "stream",
     "text": [
      "2/2 [==============================] - 0s 3ms/step\n"
     ]
    }
   ],
   "source": [
    "predictions=np.argmax(newmodel.predict(scaled_X_test),axis=1)"
   ]
  },
  {
   "cell_type": "code",
   "execution_count": 20,
   "id": "0271685e",
   "metadata": {},
   "outputs": [
    {
     "data": {
      "text/plain": [
       "array([1, 0, 2, 2, 1, 0, 1, 2, 1, 1, 2, 0, 0, 0, 0, 2, 2, 1, 2, 2, 0, 2,\n",
       "       0, 2, 2, 2, 2, 2, 0, 0, 0, 0, 1, 0, 0, 2, 1, 0, 0, 0, 2, 1, 1, 0,\n",
       "       0, 1, 2, 2, 1, 2], dtype=int64)"
      ]
     },
     "execution_count": 20,
     "metadata": {},
     "output_type": "execute_result"
    }
   ],
   "source": [
    "predictions"
   ]
  },
  {
   "cell_type": "code",
   "execution_count": 21,
   "id": "c5dae708",
   "metadata": {},
   "outputs": [],
   "source": [
    "reverse_mapping={0:'Iris-setosa',1:'Iris-versicolor',2:'Iris-virginica'}"
   ]
  },
  {
   "cell_type": "code",
   "execution_count": 22,
   "id": "618f944e",
   "metadata": {},
   "outputs": [],
   "source": [
    "classification=[]\n",
    "for ele in predictions:\n",
    "    classification.append(reverse_mapping[ele])"
   ]
  },
  {
   "cell_type": "code",
   "execution_count": 23,
   "id": "3b54fd64",
   "metadata": {},
   "outputs": [
    {
     "name": "stdout",
     "output_type": "stream",
     "text": [
      "['Iris-versicolor', 'Iris-setosa', 'Iris-virginica', 'Iris-virginica', 'Iris-versicolor', 'Iris-setosa', 'Iris-versicolor', 'Iris-virginica', 'Iris-versicolor', 'Iris-versicolor', 'Iris-virginica', 'Iris-setosa', 'Iris-setosa', 'Iris-setosa', 'Iris-setosa', 'Iris-virginica', 'Iris-virginica', 'Iris-versicolor', 'Iris-virginica', 'Iris-virginica', 'Iris-setosa', 'Iris-virginica', 'Iris-setosa', 'Iris-virginica', 'Iris-virginica', 'Iris-virginica', 'Iris-virginica', 'Iris-virginica', 'Iris-setosa', 'Iris-setosa', 'Iris-setosa', 'Iris-setosa', 'Iris-versicolor', 'Iris-setosa', 'Iris-setosa', 'Iris-virginica', 'Iris-versicolor', 'Iris-setosa', 'Iris-setosa', 'Iris-setosa', 'Iris-virginica', 'Iris-versicolor', 'Iris-versicolor', 'Iris-setosa', 'Iris-setosa', 'Iris-versicolor', 'Iris-virginica', 'Iris-virginica', 'Iris-versicolor', 'Iris-virginica'] \n",
      "\n"
     ]
    }
   ],
   "source": [
    "print(classification,\"\\n\")"
   ]
  },
  {
   "cell_type": "markdown",
   "id": "c6283904",
   "metadata": {},
   "source": [
    "<h1> Testing the model on random input</h1>"
   ]
  },
  {
   "cell_type": "code",
   "execution_count": 24,
   "id": "f186f450",
   "metadata": {},
   "outputs": [],
   "source": [
    "def predict(z):\n",
    "    scaler=load('MinMaxScaler.bin')\n",
    "    scaled_data=scaler.transform(z)\n",
    "    prediction=np.argmax(newmodel.predict(z),axis=1)\n",
    "    reverse_mapping={0:'Iris-setosa',1:'Iris-versicolor',2:'Iris-virginica'}\n",
    "    return reverse_mapping[prediction[0]]"
   ]
  },
  {
   "cell_type": "code",
   "execution_count": 25,
   "id": "a7d0f53b",
   "metadata": {},
   "outputs": [
    {
     "name": "stdout",
     "output_type": "stream",
     "text": [
      "Enter the length of the sepal: 5.8\n",
      "Enter the width of the sepal: 4.9\n",
      "Enter the length of the petal: 5.3\n",
      "Enter the width of the petal: 1.8\n",
      "1/1 [==============================] - 0s 63ms/step\n"
     ]
    },
    {
     "data": {
      "text/plain": [
       "'Iris-virginica'"
      ]
     },
     "execution_count": 25,
     "metadata": {},
     "output_type": "execute_result"
    }
   ],
   "source": [
    "sl=float(input(\"Enter the length of the sepal: \"))\n",
    "sw=float(input(\"Enter the width of the sepal: \"))\n",
    "pl=float(input(\"Enter the length of the petal: \"))\n",
    "pw=float(input(\"Enter the width of the petal: \"))\n",
    "inputs=[[sl,sw,pl,pw]]\n",
    "predict(inputs)"
   ]
  }
 ],
 "metadata": {
  "kernelspec": {
   "display_name": "Python 3 (ipykernel)",
   "language": "python",
   "name": "python3"
  },
  "language_info": {
   "codemirror_mode": {
    "name": "ipython",
    "version": 3
   },
   "file_extension": ".py",
   "mimetype": "text/x-python",
   "name": "python",
   "nbconvert_exporter": "python",
   "pygments_lexer": "ipython3",
   "version": "3.11.5"
  }
 },
 "nbformat": 4,
 "nbformat_minor": 5
}
